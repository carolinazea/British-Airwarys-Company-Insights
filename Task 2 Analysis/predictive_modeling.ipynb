{
 "cells": [
  {
   "cell_type": "code",
   "execution_count": 1,
   "id": "9ddb0ee5-41c2-420b-bcf2-8601b171b3f1",
   "metadata": {},
   "outputs": [],
   "source": [
    "import pandas as pd\n",
    "import numpy as np\n",
    "import seaborn as sns\n",
    "import matplotlib.pyplot as plt\n",
    "import matplotlib\n",
    "import os"
   ]
  },
  {
   "cell_type": "code",
   "execution_count": 19,
   "id": "839ecc4f-97cf-49b5-a3fc-270c98ddbf7e",
   "metadata": {},
   "outputs": [],
   "source": [
    "path = r'/Users/carolinazea/Desktop/Data'"
   ]
  },
  {
   "cell_type": "code",
   "execution_count": 20,
   "id": "9086f34d-97d4-4080-9d80-f79d5c698ce1",
   "metadata": {},
   "outputs": [],
   "source": [
    "df = pd.read_csv(os.path.join(path, 'ba_customer.csv'), index_col = False)"
   ]
  },
  {
   "cell_type": "code",
   "execution_count": 21,
   "id": "c1fa5360-a11f-43f1-a5ce-89f539cf3c59",
   "metadata": {},
   "outputs": [
    {
     "data": {
      "text/html": [
       "<div>\n",
       "<style scoped>\n",
       "    .dataframe tbody tr th:only-of-type {\n",
       "        vertical-align: middle;\n",
       "    }\n",
       "\n",
       "    .dataframe tbody tr th {\n",
       "        vertical-align: top;\n",
       "    }\n",
       "\n",
       "    .dataframe thead th {\n",
       "        text-align: right;\n",
       "    }\n",
       "</style>\n",
       "<table border=\"1\" class=\"dataframe\">\n",
       "  <thead>\n",
       "    <tr style=\"text-align: right;\">\n",
       "      <th></th>\n",
       "      <th>num_passengers</th>\n",
       "      <th>sales_channel</th>\n",
       "      <th>trip_type</th>\n",
       "      <th>purchase_lead</th>\n",
       "      <th>length_of_stay</th>\n",
       "      <th>flight_hour</th>\n",
       "      <th>flight_day</th>\n",
       "      <th>route</th>\n",
       "      <th>booking_origin</th>\n",
       "      <th>wants_extra_baggage</th>\n",
       "      <th>wants_preferred_seat</th>\n",
       "      <th>wants_in_flight_meals</th>\n",
       "      <th>flight_duration</th>\n",
       "      <th>booking_complete</th>\n",
       "    </tr>\n",
       "  </thead>\n",
       "  <tbody>\n",
       "    <tr>\n",
       "      <th>0</th>\n",
       "      <td>2</td>\n",
       "      <td>Internet</td>\n",
       "      <td>RoundTrip</td>\n",
       "      <td>262</td>\n",
       "      <td>19</td>\n",
       "      <td>7</td>\n",
       "      <td>Sat</td>\n",
       "      <td>AKLDEL</td>\n",
       "      <td>New Zealand</td>\n",
       "      <td>1.0</td>\n",
       "      <td>0.0</td>\n",
       "      <td>0.0</td>\n",
       "      <td>5.52</td>\n",
       "      <td>0.0</td>\n",
       "    </tr>\n",
       "    <tr>\n",
       "      <th>1</th>\n",
       "      <td>1</td>\n",
       "      <td>Internet</td>\n",
       "      <td>RoundTrip</td>\n",
       "      <td>112</td>\n",
       "      <td>20</td>\n",
       "      <td>3</td>\n",
       "      <td>Sat</td>\n",
       "      <td>AKLDEL</td>\n",
       "      <td>New Zealand</td>\n",
       "      <td>0.0</td>\n",
       "      <td>0.0</td>\n",
       "      <td>0.0</td>\n",
       "      <td>5.52</td>\n",
       "      <td>0.0</td>\n",
       "    </tr>\n",
       "    <tr>\n",
       "      <th>2</th>\n",
       "      <td>2</td>\n",
       "      <td>Internet</td>\n",
       "      <td>RoundTrip</td>\n",
       "      <td>243</td>\n",
       "      <td>22</td>\n",
       "      <td>17</td>\n",
       "      <td>Wed</td>\n",
       "      <td>AKLDEL</td>\n",
       "      <td>India</td>\n",
       "      <td>1.0</td>\n",
       "      <td>1.0</td>\n",
       "      <td>0.0</td>\n",
       "      <td>5.52</td>\n",
       "      <td>0.0</td>\n",
       "    </tr>\n",
       "    <tr>\n",
       "      <th>3</th>\n",
       "      <td>1</td>\n",
       "      <td>Internet</td>\n",
       "      <td>RoundTrip</td>\n",
       "      <td>96</td>\n",
       "      <td>31</td>\n",
       "      <td>4</td>\n",
       "      <td>Sat</td>\n",
       "      <td>AKLDEL</td>\n",
       "      <td>New Zealand</td>\n",
       "      <td>0.0</td>\n",
       "      <td>0.0</td>\n",
       "      <td>1.0</td>\n",
       "      <td>5.52</td>\n",
       "      <td>0.0</td>\n",
       "    </tr>\n",
       "    <tr>\n",
       "      <th>4</th>\n",
       "      <td>2</td>\n",
       "      <td>Internet</td>\n",
       "      <td>RoundTrip</td>\n",
       "      <td>68</td>\n",
       "      <td>22</td>\n",
       "      <td>15</td>\n",
       "      <td>Wed</td>\n",
       "      <td>AKLDEL</td>\n",
       "      <td>India</td>\n",
       "      <td>1.0</td>\n",
       "      <td>0.0</td>\n",
       "      <td>1.0</td>\n",
       "      <td>5.52</td>\n",
       "      <td>0.0</td>\n",
       "    </tr>\n",
       "    <tr>\n",
       "      <th>5</th>\n",
       "      <td>1</td>\n",
       "      <td>Internet</td>\n",
       "      <td>RoundTrip</td>\n",
       "      <td>3</td>\n",
       "      <td>48</td>\n",
       "      <td>20</td>\n",
       "      <td>Thu</td>\n",
       "      <td>AKLDEL</td>\n",
       "      <td>New Zealand</td>\n",
       "      <td>1.0</td>\n",
       "      <td>0.0</td>\n",
       "      <td>1.0</td>\n",
       "      <td>5.52</td>\n",
       "      <td>0.0</td>\n",
       "    </tr>\n",
       "    <tr>\n",
       "      <th>6</th>\n",
       "      <td>3</td>\n",
       "      <td>Internet</td>\n",
       "      <td>RoundTrip</td>\n",
       "      <td>201</td>\n",
       "      <td>33</td>\n",
       "      <td>6</td>\n",
       "      <td>Thu</td>\n",
       "      <td>AKLDEL</td>\n",
       "      <td>New Zealand</td>\n",
       "      <td>1.0</td>\n",
       "      <td>0.0</td>\n",
       "      <td>1.0</td>\n",
       "      <td>5.52</td>\n",
       "      <td>0.0</td>\n",
       "    </tr>\n",
       "    <tr>\n",
       "      <th>7</th>\n",
       "      <td>2</td>\n",
       "      <td>Internet</td>\n",
       "      <td>RoundTrip</td>\n",
       "      <td>238</td>\n",
       "      <td>19</td>\n",
       "      <td>14</td>\n",
       "      <td>Mon</td>\n",
       "      <td>AKLDEL</td>\n",
       "      <td>India</td>\n",
       "      <td>1.0</td>\n",
       "      <td>0.0</td>\n",
       "      <td>1.0</td>\n",
       "      <td>5.52</td>\n",
       "      <td>0.0</td>\n",
       "    </tr>\n",
       "    <tr>\n",
       "      <th>8</th>\n",
       "      <td>1</td>\n",
       "      <td>Internet</td>\n",
       "      <td>RoundTrip</td>\n",
       "      <td>80</td>\n",
       "      <td>22</td>\n",
       "      <td>4</td>\n",
       "      <td>Mon</td>\n",
       "      <td>AKLDEL</td>\n",
       "      <td>New Zealand</td>\n",
       "      <td>0.0</td>\n",
       "      <td>0.0</td>\n",
       "      <td>1.0</td>\n",
       "      <td>5.52</td>\n",
       "      <td>0.0</td>\n",
       "    </tr>\n",
       "    <tr>\n",
       "      <th>9</th>\n",
       "      <td>1</td>\n",
       "      <td>Mobile</td>\n",
       "      <td>RoundTrip</td>\n",
       "      <td>378</td>\n",
       "      <td>30</td>\n",
       "      <td>12</td>\n",
       "      <td>Sun</td>\n",
       "      <td>AKLDEL</td>\n",
       "      <td>India</td>\n",
       "      <td>0.0</td>\n",
       "      <td>0.0</td>\n",
       "      <td>0.0</td>\n",
       "      <td>5.52</td>\n",
       "      <td>0.0</td>\n",
       "    </tr>\n",
       "  </tbody>\n",
       "</table>\n",
       "</div>"
      ],
      "text/plain": [
       "   num_passengers sales_channel  trip_type  purchase_lead  length_of_stay  \\\n",
       "0               2      Internet  RoundTrip            262              19   \n",
       "1               1      Internet  RoundTrip            112              20   \n",
       "2               2      Internet  RoundTrip            243              22   \n",
       "3               1      Internet  RoundTrip             96              31   \n",
       "4               2      Internet  RoundTrip             68              22   \n",
       "5               1      Internet  RoundTrip              3              48   \n",
       "6               3      Internet  RoundTrip            201              33   \n",
       "7               2      Internet  RoundTrip            238              19   \n",
       "8               1      Internet  RoundTrip             80              22   \n",
       "9               1        Mobile  RoundTrip            378              30   \n",
       "\n",
       "   flight_hour flight_day   route booking_origin  wants_extra_baggage  \\\n",
       "0            7        Sat  AKLDEL    New Zealand                  1.0   \n",
       "1            3        Sat  AKLDEL    New Zealand                  0.0   \n",
       "2           17        Wed  AKLDEL          India                  1.0   \n",
       "3            4        Sat  AKLDEL    New Zealand                  0.0   \n",
       "4           15        Wed  AKLDEL          India                  1.0   \n",
       "5           20        Thu  AKLDEL    New Zealand                  1.0   \n",
       "6            6        Thu  AKLDEL    New Zealand                  1.0   \n",
       "7           14        Mon  AKLDEL          India                  1.0   \n",
       "8            4        Mon  AKLDEL    New Zealand                  0.0   \n",
       "9           12        Sun  AKLDEL          India                  0.0   \n",
       "\n",
       "   wants_preferred_seat  wants_in_flight_meals  flight_duration  \\\n",
       "0                   0.0                    0.0             5.52   \n",
       "1                   0.0                    0.0             5.52   \n",
       "2                   1.0                    0.0             5.52   \n",
       "3                   0.0                    1.0             5.52   \n",
       "4                   0.0                    1.0             5.52   \n",
       "5                   0.0                    1.0             5.52   \n",
       "6                   0.0                    1.0             5.52   \n",
       "7                   0.0                    1.0             5.52   \n",
       "8                   0.0                    1.0             5.52   \n",
       "9                   0.0                    0.0             5.52   \n",
       "\n",
       "   booking_complete  \n",
       "0               0.0  \n",
       "1               0.0  \n",
       "2               0.0  \n",
       "3               0.0  \n",
       "4               0.0  \n",
       "5               0.0  \n",
       "6               0.0  \n",
       "7               0.0  \n",
       "8               0.0  \n",
       "9               0.0  "
      ]
     },
     "execution_count": 21,
     "metadata": {},
     "output_type": "execute_result"
    }
   ],
   "source": [
    "df.head(10)"
   ]
  },
  {
   "cell_type": "code",
   "execution_count": 22,
   "id": "85570bcb-e81a-4e77-a938-7396771dcb3f",
   "metadata": {},
   "outputs": [
    {
     "name": "stdout",
     "output_type": "stream",
     "text": [
      "<class 'pandas.core.frame.DataFrame'>\n",
      "RangeIndex: 321 entries, 0 to 320\n",
      "Data columns (total 14 columns):\n",
      " #   Column                 Non-Null Count  Dtype  \n",
      "---  ------                 --------------  -----  \n",
      " 0   num_passengers         321 non-null    int64  \n",
      " 1   sales_channel          321 non-null    object \n",
      " 2   trip_type              321 non-null    object \n",
      " 3   purchase_lead          321 non-null    int64  \n",
      " 4   length_of_stay         321 non-null    int64  \n",
      " 5   flight_hour            321 non-null    int64  \n",
      " 6   flight_day             321 non-null    object \n",
      " 7   route                  321 non-null    object \n",
      " 8   booking_origin         321 non-null    object \n",
      " 9   wants_extra_baggage    320 non-null    float64\n",
      " 10  wants_preferred_seat   320 non-null    float64\n",
      " 11  wants_in_flight_meals  320 non-null    float64\n",
      " 12  flight_duration        320 non-null    float64\n",
      " 13  booking_complete       320 non-null    float64\n",
      "dtypes: float64(5), int64(4), object(5)\n",
      "memory usage: 35.2+ KB\n"
     ]
    }
   ],
   "source": [
    "df.info()"
   ]
  },
  {
   "cell_type": "code",
   "execution_count": 23,
   "id": "2c658be6-d3ac-48f6-927a-0b89856f144f",
   "metadata": {},
   "outputs": [
    {
     "data": {
      "text/plain": [
       "Index(['num_passengers', 'sales_channel', 'trip_type', 'purchase_lead',\n",
       "       'length_of_stay', 'flight_hour', 'flight_day', 'route',\n",
       "       'booking_origin', 'wants_extra_baggage', 'wants_preferred_seat',\n",
       "       'wants_in_flight_meals', 'flight_duration', 'booking_complete'],\n",
       "      dtype='object')"
      ]
     },
     "execution_count": 23,
     "metadata": {},
     "output_type": "execute_result"
    }
   ],
   "source": [
    "# check columns\n",
    "\n",
    "df.columns"
   ]
  },
  {
   "cell_type": "code",
   "execution_count": 24,
   "id": "a57070ce-ef34-4946-bb57-af3877f3fade",
   "metadata": {},
   "outputs": [
    {
     "data": {
      "text/plain": [
       "num_passengers             int64\n",
       "sales_channel             object\n",
       "trip_type                 object\n",
       "purchase_lead              int64\n",
       "length_of_stay             int64\n",
       "flight_hour                int64\n",
       "flight_day                object\n",
       "route                     object\n",
       "booking_origin            object\n",
       "wants_extra_baggage      float64\n",
       "wants_preferred_seat     float64\n",
       "wants_in_flight_meals    float64\n",
       "flight_duration          float64\n",
       "booking_complete         float64\n",
       "dtype: object"
      ]
     },
     "execution_count": 24,
     "metadata": {},
     "output_type": "execute_result"
    }
   ],
   "source": [
    "# check for datatypes\n",
    "\n",
    "df.dtypes"
   ]
  },
  {
   "cell_type": "code",
   "execution_count": 25,
   "id": "8a471b34-4f4c-4338-9af0-77cb96c14835",
   "metadata": {},
   "outputs": [
    {
     "data": {
      "text/html": [
       "<div>\n",
       "<style scoped>\n",
       "    .dataframe tbody tr th:only-of-type {\n",
       "        vertical-align: middle;\n",
       "    }\n",
       "\n",
       "    .dataframe tbody tr th {\n",
       "        vertical-align: top;\n",
       "    }\n",
       "\n",
       "    .dataframe thead th {\n",
       "        text-align: right;\n",
       "    }\n",
       "</style>\n",
       "<table border=\"1\" class=\"dataframe\">\n",
       "  <thead>\n",
       "    <tr style=\"text-align: right;\">\n",
       "      <th></th>\n",
       "      <th>num_passengers</th>\n",
       "      <th>purchase_lead</th>\n",
       "      <th>length_of_stay</th>\n",
       "      <th>flight_hour</th>\n",
       "      <th>wants_extra_baggage</th>\n",
       "      <th>wants_preferred_seat</th>\n",
       "      <th>wants_in_flight_meals</th>\n",
       "      <th>flight_duration</th>\n",
       "      <th>booking_complete</th>\n",
       "    </tr>\n",
       "  </thead>\n",
       "  <tbody>\n",
       "    <tr>\n",
       "      <th>count</th>\n",
       "      <td>321.000000</td>\n",
       "      <td>321.000000</td>\n",
       "      <td>321.000000</td>\n",
       "      <td>321.000000</td>\n",
       "      <td>320.000000</td>\n",
       "      <td>320.000000</td>\n",
       "      <td>320.000000</td>\n",
       "      <td>320.000000</td>\n",
       "      <td>320.000000</td>\n",
       "    </tr>\n",
       "    <tr>\n",
       "      <th>mean</th>\n",
       "      <td>1.560748</td>\n",
       "      <td>122.249221</td>\n",
       "      <td>42.140187</td>\n",
       "      <td>9.389408</td>\n",
       "      <td>0.728125</td>\n",
       "      <td>0.184375</td>\n",
       "      <td>0.425000</td>\n",
       "      <td>8.162719</td>\n",
       "      <td>0.103125</td>\n",
       "    </tr>\n",
       "    <tr>\n",
       "      <th>std</th>\n",
       "      <td>1.007884</td>\n",
       "      <td>101.254353</td>\n",
       "      <td>41.935318</td>\n",
       "      <td>5.841747</td>\n",
       "      <td>0.445623</td>\n",
       "      <td>0.388397</td>\n",
       "      <td>0.495117</td>\n",
       "      <td>1.190955</td>\n",
       "      <td>0.304598</td>\n",
       "    </tr>\n",
       "    <tr>\n",
       "      <th>min</th>\n",
       "      <td>1.000000</td>\n",
       "      <td>2.000000</td>\n",
       "      <td>1.000000</td>\n",
       "      <td>0.000000</td>\n",
       "      <td>0.000000</td>\n",
       "      <td>0.000000</td>\n",
       "      <td>0.000000</td>\n",
       "      <td>4.750000</td>\n",
       "      <td>0.000000</td>\n",
       "    </tr>\n",
       "    <tr>\n",
       "      <th>25%</th>\n",
       "      <td>1.000000</td>\n",
       "      <td>35.000000</td>\n",
       "      <td>21.000000</td>\n",
       "      <td>5.000000</td>\n",
       "      <td>0.000000</td>\n",
       "      <td>0.000000</td>\n",
       "      <td>0.000000</td>\n",
       "      <td>7.000000</td>\n",
       "      <td>0.000000</td>\n",
       "    </tr>\n",
       "    <tr>\n",
       "      <th>50%</th>\n",
       "      <td>1.000000</td>\n",
       "      <td>96.000000</td>\n",
       "      <td>27.000000</td>\n",
       "      <td>9.000000</td>\n",
       "      <td>1.000000</td>\n",
       "      <td>0.000000</td>\n",
       "      <td>0.000000</td>\n",
       "      <td>8.830000</td>\n",
       "      <td>0.000000</td>\n",
       "    </tr>\n",
       "    <tr>\n",
       "      <th>75%</th>\n",
       "      <td>2.000000</td>\n",
       "      <td>190.000000</td>\n",
       "      <td>44.000000</td>\n",
       "      <td>13.000000</td>\n",
       "      <td>1.000000</td>\n",
       "      <td>0.000000</td>\n",
       "      <td>1.000000</td>\n",
       "      <td>8.830000</td>\n",
       "      <td>0.000000</td>\n",
       "    </tr>\n",
       "    <tr>\n",
       "      <th>max</th>\n",
       "      <td>6.000000</td>\n",
       "      <td>419.000000</td>\n",
       "      <td>278.000000</td>\n",
       "      <td>23.000000</td>\n",
       "      <td>1.000000</td>\n",
       "      <td>1.000000</td>\n",
       "      <td>1.000000</td>\n",
       "      <td>8.830000</td>\n",
       "      <td>1.000000</td>\n",
       "    </tr>\n",
       "  </tbody>\n",
       "</table>\n",
       "</div>"
      ],
      "text/plain": [
       "       num_passengers  purchase_lead  length_of_stay  flight_hour  \\\n",
       "count      321.000000     321.000000      321.000000   321.000000   \n",
       "mean         1.560748     122.249221       42.140187     9.389408   \n",
       "std          1.007884     101.254353       41.935318     5.841747   \n",
       "min          1.000000       2.000000        1.000000     0.000000   \n",
       "25%          1.000000      35.000000       21.000000     5.000000   \n",
       "50%          1.000000      96.000000       27.000000     9.000000   \n",
       "75%          2.000000     190.000000       44.000000    13.000000   \n",
       "max          6.000000     419.000000      278.000000    23.000000   \n",
       "\n",
       "       wants_extra_baggage  wants_preferred_seat  wants_in_flight_meals  \\\n",
       "count           320.000000            320.000000             320.000000   \n",
       "mean              0.728125              0.184375               0.425000   \n",
       "std               0.445623              0.388397               0.495117   \n",
       "min               0.000000              0.000000               0.000000   \n",
       "25%               0.000000              0.000000               0.000000   \n",
       "50%               1.000000              0.000000               0.000000   \n",
       "75%               1.000000              0.000000               1.000000   \n",
       "max               1.000000              1.000000               1.000000   \n",
       "\n",
       "       flight_duration  booking_complete  \n",
       "count       320.000000        320.000000  \n",
       "mean          8.162719          0.103125  \n",
       "std           1.190955          0.304598  \n",
       "min           4.750000          0.000000  \n",
       "25%           7.000000          0.000000  \n",
       "50%           8.830000          0.000000  \n",
       "75%           8.830000          0.000000  \n",
       "max           8.830000          1.000000  "
      ]
     },
     "execution_count": 25,
     "metadata": {},
     "output_type": "execute_result"
    }
   ],
   "source": [
    "# check for descriptive statistics\n",
    "\n",
    "df.describe()"
   ]
  },
  {
   "cell_type": "code",
   "execution_count": 26,
   "id": "3b008b30-7c90-4662-80bb-83a645474672",
   "metadata": {},
   "outputs": [],
   "source": [
    "# check for mixed type data\n",
    "for col in df.columns.tolist():\n",
    "  weird = (df[[col]].applymap(type) != df[[col]].iloc[0].apply(type)).any(axis = 1)\n",
    "  if len (df[weird]) > 0:\n",
    "    print (col)\n",
    "    \n",
    "# result: no mixed datatypes"
   ]
  },
  {
   "cell_type": "code",
   "execution_count": 27,
   "id": "b1a36640-a395-40bd-8b10-ea38e3f63fba",
   "metadata": {},
   "outputs": [
    {
     "data": {
      "text/plain": [
       "num_passengers           0\n",
       "sales_channel            0\n",
       "trip_type                0\n",
       "purchase_lead            0\n",
       "length_of_stay           0\n",
       "flight_hour              0\n",
       "flight_day               0\n",
       "route                    0\n",
       "booking_origin           0\n",
       "wants_extra_baggage      1\n",
       "wants_preferred_seat     1\n",
       "wants_in_flight_meals    1\n",
       "flight_duration          1\n",
       "booking_complete         1\n",
       "dtype: int64"
      ]
     },
     "execution_count": 27,
     "metadata": {},
     "output_type": "execute_result"
    }
   ],
   "source": [
    "# check for missing values\n",
    "df.isnull().sum()"
   ]
  },
  {
   "cell_type": "code",
   "execution_count": 29,
   "id": "6f0d53cf-9f5d-4c64-8d9d-54b4e541cb12",
   "metadata": {},
   "outputs": [
    {
     "data": {
      "text/plain": [
       "(321, 14)"
      ]
     },
     "execution_count": 29,
     "metadata": {},
     "output_type": "execute_result"
    }
   ],
   "source": [
    "# displays the number of rows and columns in a dataframe before deleted null values\n",
    "\n",
    "df.shape"
   ]
  },
  {
   "cell_type": "code",
   "execution_count": 30,
   "id": "f81d112d-445f-43e7-b416-a228795ec604",
   "metadata": {},
   "outputs": [],
   "source": [
    "# since there are less than 5% of missing values, we can drop all missing values is via the following command:\n",
    "\n",
    "df.dropna(inplace = True)"
   ]
  },
  {
   "cell_type": "code",
   "execution_count": 31,
   "id": "66f04ed7-5681-4fd3-8040-9fdbc96bc38d",
   "metadata": {},
   "outputs": [
    {
     "data": {
      "text/plain": [
       "num_passengers           0\n",
       "sales_channel            0\n",
       "trip_type                0\n",
       "purchase_lead            0\n",
       "length_of_stay           0\n",
       "flight_hour              0\n",
       "flight_day               0\n",
       "route                    0\n",
       "booking_origin           0\n",
       "wants_extra_baggage      0\n",
       "wants_preferred_seat     0\n",
       "wants_in_flight_meals    0\n",
       "flight_duration          0\n",
       "booking_complete         0\n",
       "dtype: int64"
      ]
     },
     "execution_count": 31,
     "metadata": {},
     "output_type": "execute_result"
    }
   ],
   "source": [
    "df.isnull().sum()"
   ]
  },
  {
   "cell_type": "code",
   "execution_count": 32,
   "id": "2ba905b0-430c-49fb-a555-e65fb9d9f292",
   "metadata": {},
   "outputs": [
    {
     "data": {
      "text/plain": [
       "(320, 14)"
      ]
     },
     "execution_count": 32,
     "metadata": {},
     "output_type": "execute_result"
    }
   ],
   "source": [
    "# check number of rows and columns in dataframe after deleted null values\n",
    "\n",
    "df.shape"
   ]
  },
  {
   "cell_type": "code",
   "execution_count": 33,
   "id": "917dfa0b-01a1-4675-9570-99db8b521764",
   "metadata": {},
   "outputs": [],
   "source": [
    "# find duplicates\n",
    "\n",
    "df_dups = df[df.duplicated()]"
   ]
  },
  {
   "cell_type": "code",
   "execution_count": 34,
   "id": "f481d1ea-4e45-4735-8155-588bf59645e0",
   "metadata": {},
   "outputs": [
    {
     "data": {
      "text/plain": [
       "1    213\n",
       "2     72\n",
       "4     15\n",
       "3     10\n",
       "5      8\n",
       "6      2\n",
       "Name: num_passengers, dtype: int64"
      ]
     },
     "execution_count": 34,
     "metadata": {},
     "output_type": "execute_result"
    }
   ],
   "source": [
    "# check column counts\n",
    "\n",
    "df[\"num_passengers\"].value_counts()"
   ]
  },
  {
   "cell_type": "code",
   "execution_count": 35,
   "id": "7416772b-69ee-43f3-ac19-60d6152c76cf",
   "metadata": {},
   "outputs": [
    {
     "data": {
      "text/plain": [
       "RoundTrip     313\n",
       "OneWay          4\n",
       "CircleTrip      3\n",
       "Name: trip_type, dtype: int64"
      ]
     },
     "execution_count": 35,
     "metadata": {},
     "output_type": "execute_result"
    }
   ],
   "source": [
    "\n",
    "df[\"trip_type\"].value_counts()"
   ]
  },
  {
   "cell_type": "code",
   "execution_count": 36,
   "id": "bfa6f33a-8af7-471b-8c6e-71c3b93d1d4e",
   "metadata": {},
   "outputs": [
    {
     "data": {
      "text/plain": [
       "8     27\n",
       "9     26\n",
       "7     23\n",
       "4     22\n",
       "6     22\n",
       "3     22\n",
       "14    20\n",
       "10    19\n",
       "13    18\n",
       "2     18\n",
       "23    12\n",
       "12    12\n",
       "11    11\n",
       "1     10\n",
       "16     9\n",
       "15     8\n",
       "20     7\n",
       "0      7\n",
       "5      7\n",
       "17     6\n",
       "21     5\n",
       "19     4\n",
       "22     3\n",
       "18     2\n",
       "Name: flight_hour, dtype: int64"
      ]
     },
     "execution_count": 36,
     "metadata": {},
     "output_type": "execute_result"
    }
   ],
   "source": [
    "df[\"flight_hour\"].value_counts()"
   ]
  },
  {
   "cell_type": "code",
   "execution_count": 37,
   "id": "0d7d9db5-667d-41d4-b677-c0fd07f6a6b9",
   "metadata": {},
   "outputs": [
    {
     "data": {
      "text/plain": [
       "Sun    56\n",
       "Tue    53\n",
       "Mon    52\n",
       "Thu    45\n",
       "Wed    40\n",
       "Fri    39\n",
       "Sat    35\n",
       "Name: flight_day, dtype: int64"
      ]
     },
     "execution_count": 37,
     "metadata": {},
     "output_type": "execute_result"
    }
   ],
   "source": [
    "df[\"flight_day\"].value_counts()"
   ]
  },
  {
   "cell_type": "code",
   "execution_count": 38,
   "id": "5019da68-366d-4fcc-8850-1cf0caf6774e",
   "metadata": {},
   "outputs": [
    {
     "data": {
      "text/plain": [
       "New Zealand             153\n",
       "Malaysia                 95\n",
       "South Korea              28\n",
       "India                     8\n",
       "Germany                   5\n",
       "Japan                     5\n",
       "Singapore                 4\n",
       "Czech Republic            2\n",
       "Indonesia                 2\n",
       "Vietnam                   2\n",
       "China                     2\n",
       "Switzerland               1\n",
       "United Kingdom            1\n",
       "Thailand                  1\n",
       "Spain                     1\n",
       "Romania                   1\n",
       "Ireland                   1\n",
       "Italy                     1\n",
       "Slovakia                  1\n",
       "United Arab Emirates      1\n",
       "Tonga                     1\n",
       "R\\'e9union                1\n",
       "(not set)                 1\n",
       "Saudi Arabia              1\n",
       "Netherlands               1\n",
       "Name: booking_origin, dtype: int64"
      ]
     },
     "execution_count": 38,
     "metadata": {},
     "output_type": "execute_result"
    }
   ],
   "source": [
    "df[\"booking_origin\"].value_counts()"
   ]
  },
  {
   "cell_type": "code",
   "execution_count": 40,
   "id": "d63cabb8-c79d-4818-a20c-eafe18231d71",
   "metadata": {},
   "outputs": [
    {
     "data": {
      "text/plain": [
       "<AxesSubplot:xlabel='num_passengers', ylabel='Density'>"
      ]
     },
     "execution_count": 40,
     "metadata": {},
     "output_type": "execute_result"
    },
    {
     "data": {
      "image/png": "[encoded data removed]",
      "text/plain": [
       "<Figure size 640x480 with 1 Axes>"
      ]
     },
     "metadata": {},
     "output_type": "display_data"
    }
   ],
   "source": [
    "# shows extreme values\n",
    "\n",
    "sns.distplot(df['num_passengers'], bins=25)"
   ]
  },
  {
   "cell_type": "code",
   "execution_count": 41,
   "id": "092bbd8e-eaca-450a-bb97-c7d1de68c62e",
   "metadata": {},
   "outputs": [
    {
     "data": {
      "text/plain": [
       "array(['Sat', 'Wed', 'Thu', 'Mon', 'Sun', 'Tue', 'Fri'], dtype=object)"
      ]
     },
     "execution_count": 41,
     "metadata": {},
     "output_type": "execute_result"
    }
   ],
   "source": [
    "df[\"flight_day\"].unique()"
   ]
  },
  {
   "cell_type": "code",
   "execution_count": 42,
   "id": "ee0d1c60-2aba-4e44-bed3-367dc6ad6368",
   "metadata": {},
   "outputs": [],
   "source": [
    "mapping = {\n",
    "    \"Mon\": 1,\n",
    "    \"Tue\": 2,\n",
    "    \"Wed\": 3,\n",
    "    \"Thu\": 4,\n",
    "    \"Fri\": 5,\n",
    "    \"Sat\": 6,\n",
    "    \"Sun\": 7,\n",
    "}\n",
    "\n",
    "df[\"flight_day\"] = df[\"flight_day\"].map(mapping)"
   ]
  },
  {
   "cell_type": "code",
   "execution_count": 43,
   "id": "c5ce7f42-dbb6-4c94-ada4-e664bbdfb12b",
   "metadata": {},
   "outputs": [
    {
     "data": {
      "text/plain": [
       "array([6, 3, 4, 1, 7, 2, 5])"
      ]
     },
     "execution_count": 43,
     "metadata": {},
     "output_type": "execute_result"
    }
   ],
   "source": [
    "df[\"flight_day\"].unique()"
   ]
  },
  {
   "cell_type": "code",
   "execution_count": 44,
   "id": "0f15ff6f-7792-45d9-a57d-ed91e66003b6",
   "metadata": {},
   "outputs": [
    {
     "name": "stderr",
     "output_type": "stream",
     "text": [
      "/Users/carolinazea/opt/anaconda3/lib/python3.9/site-packages/seaborn/distributions.py:2619: FutureWarning: `distplot` is a deprecated function and will be removed in a future version. Please adapt your code to use either `displot` (a figure-level function with similar flexibility) or `histplot` (an axes-level function for histograms).\n",
      "  warnings.warn(msg, FutureWarning)\n"
     ]
    },
    {
     "data": {
      "text/plain": [
       "<AxesSubplot:xlabel='flight_day', ylabel='Density'>"
      ]
     },
     "execution_count": 44,
     "metadata": {},
     "output_type": "execute_result"
    },
    {
     "data": {
      "image/png": "[encoded data removed]",
      "text/plain": [
       "<Figure size 640x480 with 1 Axes>"
      ]
     },
     "metadata": {},
     "output_type": "display_data"
    }
   ],
   "source": [
    "sns.distplot(df['flight_day'], bins=25)"
   ]
  },
  {
   "cell_type": "markdown",
   "id": "94f11c6e-d961-4b54-90ec-e8bbf1c22d77",
   "metadata": {},
   "source": [
    "##  Correlations"
   ]
  },
  {
   "cell_type": "code",
   "execution_count": 45,
   "id": "ebef2c21-eaae-44ac-bcd4-c6e9c7ee2937",
   "metadata": {},
   "outputs": [],
   "source": [
    "# Create a subset including \n",
    "\n",
    "sub = df[['num_passengers', 'purchase_lead', 'length_of_stay', 'flight_hour','flight_duration', 'flight_day']]"
   ]
  },
  {
   "cell_type": "code",
   "execution_count": 46,
   "id": "0e569f91-0b01-4a07-bd70-920ec425282e",
   "metadata": {},
   "outputs": [
    {
     "data": {
      "text/html": [
       "<div>\n",
       "<style scoped>\n",
       "    .dataframe tbody tr th:only-of-type {\n",
       "        vertical-align: middle;\n",
       "    }\n",
       "\n",
       "    .dataframe tbody tr th {\n",
       "        vertical-align: top;\n",
       "    }\n",
       "\n",
       "    .dataframe thead th {\n",
       "        text-align: right;\n",
       "    }\n",
       "</style>\n",
       "<table border=\"1\" class=\"dataframe\">\n",
       "  <thead>\n",
       "    <tr style=\"text-align: right;\">\n",
       "      <th></th>\n",
       "      <th>num_passengers</th>\n",
       "      <th>purchase_lead</th>\n",
       "      <th>length_of_stay</th>\n",
       "      <th>flight_hour</th>\n",
       "      <th>flight_duration</th>\n",
       "      <th>flight_day</th>\n",
       "    </tr>\n",
       "  </thead>\n",
       "  <tbody>\n",
       "    <tr>\n",
       "      <th>0</th>\n",
       "      <td>2</td>\n",
       "      <td>262</td>\n",
       "      <td>19</td>\n",
       "      <td>7</td>\n",
       "      <td>5.52</td>\n",
       "      <td>6</td>\n",
       "    </tr>\n",
       "    <tr>\n",
       "      <th>1</th>\n",
       "      <td>1</td>\n",
       "      <td>112</td>\n",
       "      <td>20</td>\n",
       "      <td>3</td>\n",
       "      <td>5.52</td>\n",
       "      <td>6</td>\n",
       "    </tr>\n",
       "    <tr>\n",
       "      <th>2</th>\n",
       "      <td>2</td>\n",
       "      <td>243</td>\n",
       "      <td>22</td>\n",
       "      <td>17</td>\n",
       "      <td>5.52</td>\n",
       "      <td>3</td>\n",
       "    </tr>\n",
       "    <tr>\n",
       "      <th>3</th>\n",
       "      <td>1</td>\n",
       "      <td>96</td>\n",
       "      <td>31</td>\n",
       "      <td>4</td>\n",
       "      <td>5.52</td>\n",
       "      <td>6</td>\n",
       "    </tr>\n",
       "    <tr>\n",
       "      <th>4</th>\n",
       "      <td>2</td>\n",
       "      <td>68</td>\n",
       "      <td>22</td>\n",
       "      <td>15</td>\n",
       "      <td>5.52</td>\n",
       "      <td>3</td>\n",
       "    </tr>\n",
       "    <tr>\n",
       "      <th>...</th>\n",
       "      <td>...</td>\n",
       "      <td>...</td>\n",
       "      <td>...</td>\n",
       "      <td>...</td>\n",
       "      <td>...</td>\n",
       "      <td>...</td>\n",
       "    </tr>\n",
       "    <tr>\n",
       "      <th>315</th>\n",
       "      <td>1</td>\n",
       "      <td>69</td>\n",
       "      <td>28</td>\n",
       "      <td>14</td>\n",
       "      <td>8.83</td>\n",
       "      <td>4</td>\n",
       "    </tr>\n",
       "    <tr>\n",
       "      <th>316</th>\n",
       "      <td>5</td>\n",
       "      <td>206</td>\n",
       "      <td>17</td>\n",
       "      <td>13</td>\n",
       "      <td>8.83</td>\n",
       "      <td>7</td>\n",
       "    </tr>\n",
       "    <tr>\n",
       "      <th>317</th>\n",
       "      <td>1</td>\n",
       "      <td>6</td>\n",
       "      <td>21</td>\n",
       "      <td>3</td>\n",
       "      <td>8.83</td>\n",
       "      <td>5</td>\n",
       "    </tr>\n",
       "    <tr>\n",
       "      <th>318</th>\n",
       "      <td>2</td>\n",
       "      <td>23</td>\n",
       "      <td>31</td>\n",
       "      <td>4</td>\n",
       "      <td>8.83</td>\n",
       "      <td>1</td>\n",
       "    </tr>\n",
       "    <tr>\n",
       "      <th>319</th>\n",
       "      <td>1</td>\n",
       "      <td>197</td>\n",
       "      <td>19</td>\n",
       "      <td>3</td>\n",
       "      <td>8.83</td>\n",
       "      <td>1</td>\n",
       "    </tr>\n",
       "  </tbody>\n",
       "</table>\n",
       "<p>320 rows × 6 columns</p>\n",
       "</div>"
      ],
      "text/plain": [
       "     num_passengers  purchase_lead  length_of_stay  flight_hour  \\\n",
       "0                 2            262              19            7   \n",
       "1                 1            112              20            3   \n",
       "2                 2            243              22           17   \n",
       "3                 1             96              31            4   \n",
       "4                 2             68              22           15   \n",
       "..              ...            ...             ...          ...   \n",
       "315               1             69              28           14   \n",
       "316               5            206              17           13   \n",
       "317               1              6              21            3   \n",
       "318               2             23              31            4   \n",
       "319               1            197              19            3   \n",
       "\n",
       "     flight_duration  flight_day  \n",
       "0               5.52           6  \n",
       "1               5.52           6  \n",
       "2               5.52           3  \n",
       "3               5.52           6  \n",
       "4               5.52           3  \n",
       "..               ...         ...  \n",
       "315             8.83           4  \n",
       "316             8.83           7  \n",
       "317             8.83           5  \n",
       "318             8.83           1  \n",
       "319             8.83           1  \n",
       "\n",
       "[320 rows x 6 columns]"
      ]
     },
     "execution_count": 46,
     "metadata": {},
     "output_type": "execute_result"
    }
   ],
   "source": [
    "sub"
   ]
  },
  {
   "cell_type": "code",
   "execution_count": 58,
   "id": "38475994-6769-4dff-bcee-f65e8205fcf0",
   "metadata": {},
   "outputs": [
    {
     "data": {
      "text/html": [
       "<div>\n",
       "<style scoped>\n",
       "    .dataframe tbody tr th:only-of-type {\n",
       "        vertical-align: middle;\n",
       "    }\n",
       "\n",
       "    .dataframe tbody tr th {\n",
       "        vertical-align: top;\n",
       "    }\n",
       "\n",
       "    .dataframe thead th {\n",
       "        text-align: right;\n",
       "    }\n",
       "</style>\n",
       "<table border=\"1\" class=\"dataframe\">\n",
       "  <thead>\n",
       "    <tr style=\"text-align: right;\">\n",
       "      <th></th>\n",
       "      <th>num_passengers</th>\n",
       "      <th>purchase_lead</th>\n",
       "      <th>length_of_stay</th>\n",
       "      <th>flight_hour</th>\n",
       "      <th>flight_day</th>\n",
       "      <th>wants_extra_baggage</th>\n",
       "      <th>wants_preferred_seat</th>\n",
       "      <th>wants_in_flight_meals</th>\n",
       "      <th>flight_duration</th>\n",
       "      <th>booking_complete</th>\n",
       "    </tr>\n",
       "  </thead>\n",
       "  <tbody>\n",
       "    <tr>\n",
       "      <th>num_passengers</th>\n",
       "      <td>1.000000</td>\n",
       "      <td>0.224301</td>\n",
       "      <td>-0.180788</td>\n",
       "      <td>0.016054</td>\n",
       "      <td>0.077053</td>\n",
       "      <td>0.109202</td>\n",
       "      <td>0.079953</td>\n",
       "      <td>0.099913</td>\n",
       "      <td>0.080578</td>\n",
       "      <td>0.036108</td>\n",
       "    </tr>\n",
       "    <tr>\n",
       "      <th>purchase_lead</th>\n",
       "      <td>0.224301</td>\n",
       "      <td>1.000000</td>\n",
       "      <td>-0.168151</td>\n",
       "      <td>0.102983</td>\n",
       "      <td>0.046972</td>\n",
       "      <td>-0.001480</td>\n",
       "      <td>0.027362</td>\n",
       "      <td>-0.026810</td>\n",
       "      <td>0.037238</td>\n",
       "      <td>-0.020986</td>\n",
       "    </tr>\n",
       "    <tr>\n",
       "      <th>length_of_stay</th>\n",
       "      <td>-0.180788</td>\n",
       "      <td>-0.168151</td>\n",
       "      <td>1.000000</td>\n",
       "      <td>-0.098032</td>\n",
       "      <td>-0.004713</td>\n",
       "      <td>0.094169</td>\n",
       "      <td>0.029020</td>\n",
       "      <td>0.030412</td>\n",
       "      <td>0.050020</td>\n",
       "      <td>0.057053</td>\n",
       "    </tr>\n",
       "    <tr>\n",
       "      <th>flight_hour</th>\n",
       "      <td>0.016054</td>\n",
       "      <td>0.102983</td>\n",
       "      <td>-0.098032</td>\n",
       "      <td>1.000000</td>\n",
       "      <td>-0.017348</td>\n",
       "      <td>0.054105</td>\n",
       "      <td>-0.061316</td>\n",
       "      <td>-0.061945</td>\n",
       "      <td>0.075468</td>\n",
       "      <td>0.060639</td>\n",
       "    </tr>\n",
       "    <tr>\n",
       "      <th>flight_day</th>\n",
       "      <td>0.077053</td>\n",
       "      <td>0.046972</td>\n",
       "      <td>-0.004713</td>\n",
       "      <td>-0.017348</td>\n",
       "      <td>1.000000</td>\n",
       "      <td>-0.120159</td>\n",
       "      <td>-0.020761</td>\n",
       "      <td>-0.016239</td>\n",
       "      <td>0.047348</td>\n",
       "      <td>-0.051180</td>\n",
       "    </tr>\n",
       "    <tr>\n",
       "      <th>wants_extra_baggage</th>\n",
       "      <td>0.109202</td>\n",
       "      <td>-0.001480</td>\n",
       "      <td>0.094169</td>\n",
       "      <td>0.054105</td>\n",
       "      <td>-0.120159</td>\n",
       "      <td>1.000000</td>\n",
       "      <td>0.145632</td>\n",
       "      <td>0.226973</td>\n",
       "      <td>-0.018627</td>\n",
       "      <td>-0.023744</td>\n",
       "    </tr>\n",
       "    <tr>\n",
       "      <th>wants_preferred_seat</th>\n",
       "      <td>0.079953</td>\n",
       "      <td>0.027362</td>\n",
       "      <td>0.029020</td>\n",
       "      <td>-0.061316</td>\n",
       "      <td>-0.020761</td>\n",
       "      <td>0.145632</td>\n",
       "      <td>1.000000</td>\n",
       "      <td>0.096586</td>\n",
       "      <td>0.057263</td>\n",
       "      <td>-0.028733</td>\n",
       "    </tr>\n",
       "    <tr>\n",
       "      <th>wants_in_flight_meals</th>\n",
       "      <td>0.099913</td>\n",
       "      <td>-0.026810</td>\n",
       "      <td>0.030412</td>\n",
       "      <td>-0.061945</td>\n",
       "      <td>-0.016239</td>\n",
       "      <td>0.226973</td>\n",
       "      <td>0.096586</td>\n",
       "      <td>1.000000</td>\n",
       "      <td>-0.081231</td>\n",
       "      <td>0.041053</td>\n",
       "    </tr>\n",
       "    <tr>\n",
       "      <th>flight_duration</th>\n",
       "      <td>0.080578</td>\n",
       "      <td>0.037238</td>\n",
       "      <td>0.050020</td>\n",
       "      <td>0.075468</td>\n",
       "      <td>0.047348</td>\n",
       "      <td>-0.018627</td>\n",
       "      <td>0.057263</td>\n",
       "      <td>-0.081231</td>\n",
       "      <td>1.000000</td>\n",
       "      <td>0.190287</td>\n",
       "    </tr>\n",
       "    <tr>\n",
       "      <th>booking_complete</th>\n",
       "      <td>0.036108</td>\n",
       "      <td>-0.020986</td>\n",
       "      <td>0.057053</td>\n",
       "      <td>0.060639</td>\n",
       "      <td>-0.051180</td>\n",
       "      <td>-0.023744</td>\n",
       "      <td>-0.028733</td>\n",
       "      <td>0.041053</td>\n",
       "      <td>0.190287</td>\n",
       "      <td>1.000000</td>\n",
       "    </tr>\n",
       "  </tbody>\n",
       "</table>\n",
       "</div>"
      ],
      "text/plain": [
       "                       num_passengers  purchase_lead  length_of_stay  \\\n",
       "num_passengers               1.000000       0.224301       -0.180788   \n",
       "purchase_lead                0.224301       1.000000       -0.168151   \n",
       "length_of_stay              -0.180788      -0.168151        1.000000   \n",
       "flight_hour                  0.016054       0.102983       -0.098032   \n",
       "flight_day                   0.077053       0.046972       -0.004713   \n",
       "wants_extra_baggage          0.109202      -0.001480        0.094169   \n",
       "wants_preferred_seat         0.079953       0.027362        0.029020   \n",
       "wants_in_flight_meals        0.099913      -0.026810        0.030412   \n",
       "flight_duration              0.080578       0.037238        0.050020   \n",
       "booking_complete             0.036108      -0.020986        0.057053   \n",
       "\n",
       "                       flight_hour  flight_day  wants_extra_baggage  \\\n",
       "num_passengers            0.016054    0.077053             0.109202   \n",
       "purchase_lead             0.102983    0.046972            -0.001480   \n",
       "length_of_stay           -0.098032   -0.004713             0.094169   \n",
       "flight_hour               1.000000   -0.017348             0.054105   \n",
       "flight_day               -0.017348    1.000000            -0.120159   \n",
       "wants_extra_baggage       0.054105   -0.120159             1.000000   \n",
       "wants_preferred_seat     -0.061316   -0.020761             0.145632   \n",
       "wants_in_flight_meals    -0.061945   -0.016239             0.226973   \n",
       "flight_duration           0.075468    0.047348            -0.018627   \n",
       "booking_complete          0.060639   -0.051180            -0.023744   \n",
       "\n",
       "                       wants_preferred_seat  wants_in_flight_meals  \\\n",
       "num_passengers                     0.079953               0.099913   \n",
       "purchase_lead                      0.027362              -0.026810   \n",
       "length_of_stay                     0.029020               0.030412   \n",
       "flight_hour                       -0.061316              -0.061945   \n",
       "flight_day                        -0.020761              -0.016239   \n",
       "wants_extra_baggage                0.145632               0.226973   \n",
       "wants_preferred_seat               1.000000               0.096586   \n",
       "wants_in_flight_meals              0.096586               1.000000   \n",
       "flight_duration                    0.057263              -0.081231   \n",
       "booking_complete                  -0.028733               0.041053   \n",
       "\n",
       "                       flight_duration  booking_complete  \n",
       "num_passengers                0.080578          0.036108  \n",
       "purchase_lead                 0.037238         -0.020986  \n",
       "length_of_stay                0.050020          0.057053  \n",
       "flight_hour                   0.075468          0.060639  \n",
       "flight_day                    0.047348         -0.051180  \n",
       "wants_extra_baggage          -0.018627         -0.023744  \n",
       "wants_preferred_seat          0.057263         -0.028733  \n",
       "wants_in_flight_meals        -0.081231          0.041053  \n",
       "flight_duration               1.000000          0.190287  \n",
       "booking_complete              0.190287          1.000000  "
      ]
     },
     "execution_count": 58,
     "metadata": {},
     "output_type": "execute_result"
    }
   ],
   "source": [
    "# displays correlation between dataframe variables\n",
    "\n",
    "df.corr()"
   ]
  },
  {
   "cell_type": "code",
   "execution_count": 48,
   "id": "00f95774-0b1e-4f4f-bb4f-130c562fce5c",
   "metadata": {},
   "outputs": [
    {
     "data": {
      "text/plain": [
       "Text(0.5, 1.0, 'Correlation Matrix')"
      ]
     },
     "execution_count": 48,
     "metadata": {},
     "output_type": "execute_result"
    },
    {
     "data": {
      "image/png": "[encoded data removed]",
      "text/plain": [
       "<Figure size 800x800 with 2 Axes>"
      ]
     },
     "metadata": {},
     "output_type": "display_data"
    }
   ],
   "source": [
    "# create heatmap\n",
    "\n",
    "f = plt.figure(figsize=(8, 8)) # figure size \n",
    "plt.matshow(df.corr(), fignum=f.number) # type of plot\n",
    "plt.xticks(range(sub.shape[1]), sub.columns, fontsize=14, rotation=45) # x axis labels\n",
    "plt.yticks(range(sub.shape[1]), sub.columns, fontsize=14) # y axis labels\n",
    "cb = plt.colorbar() # add a colour legend (called colorbar)\n",
    "cb.ax.tick_params(labelsize=14) # add font size\n",
    "plt.title('Correlation Matrix', fontsize=14) # add title"
   ]
  },
  {
   "cell_type": "code",
   "execution_count": 49,
   "id": "82c2e069-0590-41e2-94aa-f3a896cc90f1",
   "metadata": {},
   "outputs": [
    {
     "data": {
      "image/png": "[encoded data removed]",
      "text/plain": [
       "<Figure size 1000x1000 with 2 Axes>"
      ]
     },
     "metadata": {},
     "output_type": "display_data"
    }
   ],
   "source": [
    "# create a subplot with matplotlib\n",
    "f,ax = plt.subplots(figsize=(10,10))\n",
    "\n",
    "# create the correlation heatmap in seaborn\n",
    "corr = sns.heatmap(sub.corr(), annot = True, ax = ax)"
   ]
  },
  {
   "cell_type": "code",
   "execution_count": 52,
   "id": "1c4fe944-a9ad-4a05-b640-c61130f1ea9e",
   "metadata": {},
   "outputs": [
    {
     "data": {
      "text/html": [
       "<div>\n",
       "<style scoped>\n",
       "    .dataframe tbody tr th:only-of-type {\n",
       "        vertical-align: middle;\n",
       "    }\n",
       "\n",
       "    .dataframe tbody tr th {\n",
       "        vertical-align: top;\n",
       "    }\n",
       "\n",
       "    .dataframe thead th {\n",
       "        text-align: right;\n",
       "    }\n",
       "</style>\n",
       "<table border=\"1\" class=\"dataframe\">\n",
       "  <thead>\n",
       "    <tr style=\"text-align: right;\">\n",
       "      <th></th>\n",
       "      <th>num_passengers</th>\n",
       "      <th>length_of_stay</th>\n",
       "    </tr>\n",
       "  </thead>\n",
       "  <tbody>\n",
       "    <tr>\n",
       "      <th>0</th>\n",
       "      <td>2</td>\n",
       "      <td>19</td>\n",
       "    </tr>\n",
       "    <tr>\n",
       "      <th>1</th>\n",
       "      <td>1</td>\n",
       "      <td>20</td>\n",
       "    </tr>\n",
       "    <tr>\n",
       "      <th>2</th>\n",
       "      <td>2</td>\n",
       "      <td>22</td>\n",
       "    </tr>\n",
       "    <tr>\n",
       "      <th>3</th>\n",
       "      <td>1</td>\n",
       "      <td>31</td>\n",
       "    </tr>\n",
       "    <tr>\n",
       "      <th>4</th>\n",
       "      <td>2</td>\n",
       "      <td>22</td>\n",
       "    </tr>\n",
       "  </tbody>\n",
       "</table>\n",
       "</div>"
      ],
      "text/plain": [
       "   num_passengers  length_of_stay\n",
       "0               2              19\n",
       "1               1              20\n",
       "2               2              22\n",
       "3               1              31\n",
       "4               2              22"
      ]
     },
     "execution_count": 52,
     "metadata": {},
     "output_type": "execute_result"
    }
   ],
   "source": [
    "# create a dataframe to include number of passengers and the length of stay\n",
    "\n",
    "data_to_plot = df[['num_passengers','length_of_stay']]\n",
    "data_to_plot.head()"
   ]
  },
  {
   "cell_type": "code",
   "execution_count": 53,
   "id": "067eb0b8-6207-4567-bda1-8350b7e23057",
   "metadata": {},
   "outputs": [
    {
     "data": {
      "text/html": [
       "<div>\n",
       "<style scoped>\n",
       "    .dataframe tbody tr th:only-of-type {\n",
       "        vertical-align: middle;\n",
       "    }\n",
       "\n",
       "    .dataframe tbody tr th {\n",
       "        vertical-align: top;\n",
       "    }\n",
       "\n",
       "    .dataframe thead th {\n",
       "        text-align: right;\n",
       "    }\n",
       "</style>\n",
       "<table border=\"1\" class=\"dataframe\">\n",
       "  <thead>\n",
       "    <tr style=\"text-align: right;\">\n",
       "      <th></th>\n",
       "      <th>flight_day</th>\n",
       "      <th>flight_hour</th>\n",
       "    </tr>\n",
       "  </thead>\n",
       "  <tbody>\n",
       "    <tr>\n",
       "      <th>0</th>\n",
       "      <td>6</td>\n",
       "      <td>7</td>\n",
       "    </tr>\n",
       "    <tr>\n",
       "      <th>1</th>\n",
       "      <td>6</td>\n",
       "      <td>3</td>\n",
       "    </tr>\n",
       "    <tr>\n",
       "      <th>2</th>\n",
       "      <td>3</td>\n",
       "      <td>17</td>\n",
       "    </tr>\n",
       "    <tr>\n",
       "      <th>3</th>\n",
       "      <td>6</td>\n",
       "      <td>4</td>\n",
       "    </tr>\n",
       "    <tr>\n",
       "      <th>4</th>\n",
       "      <td>3</td>\n",
       "      <td>15</td>\n",
       "    </tr>\n",
       "  </tbody>\n",
       "</table>\n",
       "</div>"
      ],
      "text/plain": [
       "   flight_day  flight_hour\n",
       "0           6            7\n",
       "1           6            3\n",
       "2           3           17\n",
       "3           6            4\n",
       "4           3           15"
      ]
     },
     "execution_count": 53,
     "metadata": {},
     "output_type": "execute_result"
    }
   ],
   "source": [
    "# create a dataframe to include flight day and time of flight\n",
    "\n",
    "data_to_plot = df[['flight_day','flight_hour']]\n",
    "data_to_plot.head()"
   ]
  },
  {
   "cell_type": "code",
   "execution_count": 60,
   "id": "feffb9b0-ec2f-459d-a42a-c46cc2198fcb",
   "metadata": {},
   "outputs": [],
   "source": [
    "import sklearn"
   ]
  },
  {
   "cell_type": "code",
   "execution_count": 62,
   "id": "8cf1d37a-5445-4f5b-b4c4-b304e59058eb",
   "metadata": {},
   "outputs": [],
   "source": [
    "# import train_test_split function\n",
    "from sklearn.model_selection import train_test_split\n",
    "\n",
    "X=df[['num_passengers', 'purchase_lead', 'length_of_stay', 'flight_hour','flight_duration', 'flight_day']]  # Features\n",
    "y=df['route']\n",
    "\n",
    "# split dataset into training set and test set\n",
    "\n",
    "X_train, X_test, y_train, y_test = train_test_split(X, y, test_size=0.3) \n",
    "# 70% training and 30% test"
   ]
  },
  {
   "cell_type": "code",
   "execution_count": 63,
   "id": "f2d4dc2e-4744-4e6a-bf8d-64d6a6611d3b",
   "metadata": {},
   "outputs": [],
   "source": [
    "# import Random Forest Model\n",
    "from sklearn.ensemble import RandomForestClassifier\n",
    "\n",
    "# create a Gaussian Classifier\n",
    "clf=RandomForestClassifier(n_estimators=100)\n",
    "\n",
    "# train the model using the training sets y_pred=clf.predict(X_test)\n",
    "clf.fit(X_train,y_train)\n",
    "\n",
    "y_pred=clf.predict(X_test)"
   ]
  },
  {
   "cell_type": "code",
   "execution_count": 64,
   "id": "a7a81b60-4a53-4555-80a2-383facc9e58f",
   "metadata": {},
   "outputs": [
    {
     "name": "stdout",
     "output_type": "stream",
     "text": [
      "Accuracy: 0.9895833333333334\n"
     ]
    }
   ],
   "source": [
    "# import scikit-learn metrics module for accuracy calculation\n",
    "from sklearn import metrics\n",
    "\n",
    "# model Accuracy, how often is the classifier correct?\n",
    "\n",
    "print(\"Accuracy:\",metrics.accuracy_score(y_test, y_pred))"
   ]
  },
  {
   "cell_type": "code",
   "execution_count": null,
   "id": "a9eccf55-b24c-475d-8979-9ba9a4f2ffff",
   "metadata": {},
   "outputs": [],
   "source": [
    "### .98 evaluation metric which measured the number of correct predictions made by model."
   ]
  }
 ],
 "metadata": {
  "kernelspec": {
   "display_name": "Python 3 (ipykernel)",
   "language": "python",
   "name": "python3"
  },
  "language_info": {
   "codemirror_mode": {
    "name": "ipython",
    "version": 3
   },
   "file_extension": ".py",
   "mimetype": "text/x-python",
   "name": "python",
   "nbconvert_exporter": "python",
   "pygments_lexer": "ipython3",
   "version": "3.9.13"
  }
 },
 "nbformat": 4,
 "nbformat_minor": 5
}
